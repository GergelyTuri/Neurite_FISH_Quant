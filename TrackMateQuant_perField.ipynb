{
 "cells": [
  {
   "cell_type": "code",
   "execution_count": 1,
   "metadata": {},
   "outputs": [],
   "source": [
    "import pandas as pd\n",
    "import matplotlib.pyplot as plt\n",
    "import numpy as np\n",
    "import seaborn as sns\n",
    "%matplotlib inline\n",
    "import os\n",
    "from aicsimageio import AICSImage\n",
    "os.chdir('Path_To_Directory_With_TIFF_and_CSV_Files')"
   ]
  },
  {
   "cell_type": "code",
   "execution_count": 2,
   "metadata": {},
   "outputs": [],
   "source": [
    "# Define TrackMate_Quant function, can collapse code after running first time\n",
    "\n",
    "def TrackMate_Quant(spots, img1, Z_um, Y_um, X_um, Threshold, Pct_Threshold):\n",
    "    # Convert um positions back to pixel coordinates\n",
    "    spots['Pixel_Z'] = spots.POSITION_Z / Z_um\n",
    "    spots['Pixel_Y'] = spots.POSITION_Y / Y_um\n",
    "    spots['Pixel_X'] = spots.POSITION_X / X_um\n",
    "    \n",
    "    # Round to integers Drop any puncta that lands on edge pixels (indexed Pixel must be > 0 and < -1 than length of the array)\n",
    "    print(f'Spots before edge filtering: {spots.shape}')\n",
    "    spotsF = spots.loc[:,['Pixel_Z','Pixel_Y','Pixel_X']].round(decimals=0)\n",
    "    spotsF = spotsF.loc[((spotsF.Pixel_Z < (len(img1[0])-1)) & (spotsF.Pixel_Z > 0))&\n",
    "                          ((spotsF.Pixel_Y < (len(img1[0][0])-1)) & (spotsF.Pixel_Y > 0))&\n",
    "                          ((spotsF.Pixel_X < (len(img1[0][0][0])-1)) & (spotsF.Pixel_X > 0)),:]\n",
    "    print(f'Spots after edge filtering: {spotsF.shape}')\n",
    "    # Get numpy array of 3D coordinates [Z, Y, X], convert to np.int64\n",
    "    spots_coord = spotsF.to_numpy()\n",
    "    spots_coord_round = spots_coord.astype(np.int64)\n",
    "    \n",
    "    # Calcualte image volume and store (exlcuding all edge pixels, so must subtract 2 from each dimension)\n",
    "    Pixel_Vol = Z_um*Y_um*X_um\n",
    "    Total_Pixels = (len(img1[0])-2)*len(img1[0][0]-2)*len(img1[0][0][0]-2)\n",
    "    Total_Vol =  Total_Pixels*Pixel_Vol\n",
    "    Neurite_Pixels = np.count_nonzero(img1[0] > Threshold)\n",
    "    Neurite_Vol = Neurite_Pixels*Pixel_Vol\n",
    "    Neurite_Vol_Pct = Neurite_Vol/Total_Vol\n",
    "    \n",
    "    # Initialize empty list for output\n",
    "    RNAlist = []\n",
    "    for i in list(np.arange(0,len(spotsF))):\n",
    "        Z = spots_coord_round[i][0]\n",
    "        Y = spots_coord_round[i][1]\n",
    "        X = spots_coord_round[i][2]\n",
    "        RNAlist.append([\n",
    "            img1[0][Z][Y][X],img1[0][Z][Y-1][X+1],img1[0][Z][Y][X+1],img1[0][Z][Y+1][X+1],img1[0][Z][Y-1][X-1],\n",
    "            img1[0][Z][Y][X-1],img1[0][Z][Y+1][X-1],img1[0][Z][Y-1][X],img1[0][Z][Y+1][X],img1[0][Z+1][Y][X],\n",
    "            img1[0][Z+1][Y][X+1],img1[0][Z+1][Y][X-1],img1[0][Z+1][Y-1][X],img1[0][Z+1][Y+1][X],img1[0][Z-1][Y][X],\n",
    "            img1[0][Z-1][Y][X+1],img1[0][Z-1][Y][X-1],img1[0][Z-1][Y-1][X],img1[0][Z-1][Y+1][X]\n",
    "                ])\n",
    "        ##\n",
    "    RNA_Pct_list = []\n",
    "    for i in list(np.arange(0,len(spotsF))):\n",
    "        RNA_Pct_list.append(sum(1 for x in RNAlist[i] if (x > Threshold))/len(RNAlist[i]))\n",
    "    # Output\n",
    "    SpotCount = len(RNAlist)\n",
    "    SpotCount_Pos = sum(1 for x in RNA_Pct_list if (x > Pct_Threshold))\n",
    "    PosSpots_Percent = SpotCount_Pos/SpotCount\n",
    "    SpotCount_Vol = SpotCount/Total_Vol\n",
    "    SpotCount_Neurite_Vol = SpotCount/Neurite_Vol\n",
    "    #\n",
    "    return [SpotCount, SpotCount_Pos, PosSpots_Percent, SpotCount_Vol, SpotCount_Neurite_Vol, Total_Pixels, Total_Vol, Neurite_Pixels, Neurite_Vol, Neurite_Vol_Pct]"
   ]
  },
  {
   "cell_type": "code",
   "execution_count": 3,
   "metadata": {},
   "outputs": [],
   "source": [
    "# Set directory for files\n",
    "directory = r'/Path_To_Directory_With_TIFF_and_CSV_Files'\n",
    "Tif_Paths = []\n",
    "RNA1_Paths = []\n",
    "RNA2_Paths = []\n",
    "\n",
    "#\n",
    "for filename in os.listdir(directory):\n",
    "    if filename.endswith(\".tif\"):\n",
    "        Tifp = os.path.join(directory, filename)\n",
    "        Tif_Paths.append(Tifp)\n",
    "    else:\n",
    "        if filename.endswith(\"RNA1.csv\"):\n",
    "            RNA1_sp = os.path.join(directory, filename)\n",
    "            RNA1_Paths.append(RNA1_sp)\n",
    "        else:\n",
    "            if filename.endswith(\"RNA2.csv\"):\n",
    "                RNA2_sp = os.path.join(directory, filename)\n",
    "                RNA2_Paths.append(RNA2_sp)"
   ]
  },
  {
   "cell_type": "code",
   "execution_count": 4,
   "metadata": {},
   "outputs": [],
   "source": [
    "# YOU MUST ENTER THIS INFORMATION FROM TRACKMATE BEGINNING SCREEN IN ORDER TO CONVERT THE UM BACK TO PIXEL COORDINATES\n",
    "# IT MUST BE THE SAME FOR ALL IMAGES / TRACKMATE SPOT OUTPUT TO BE ANALYZED\n",
    "Z_um = 0.300\n",
    "Y_um = 0.180\n",
    "X_um = 0.180\n",
    "\n",
    "# Set Neurite+ pixel intensity threshold\n",
    "Threshold = 75\n",
    "# Set % of Neurite+ pixels threshold for spot calling\n",
    "Pct_Threshold = 0.6\n",
    "\n",
    "#  Initiliaze empty list to append output to\n",
    "RNA1_DataList = []\n",
    "RNA2_DataList = []"
   ]
  },
  {
   "cell_type": "code",
   "execution_count": 5,
   "metadata": {},
   "outputs": [
    {
     "name": "stdout",
     "output_type": "stream",
     "text": [
      "Spots before edge filtering: (379, 33)\n",
      "Spots after edge filtering: (336, 3)\n",
      "Spots before edge filtering: (420, 33)\n",
      "Spots after edge filtering: (351, 3)\n",
      "Spots before edge filtering: (316, 33)\n",
      "Spots after edge filtering: (268, 3)\n",
      "Spots before edge filtering: (395, 33)\n",
      "Spots after edge filtering: (336, 3)\n"
     ]
    }
   ],
   "source": [
    "for i in list(np.arange(0,len(Tif_Paths))):\n",
    "    img = AICSImage(Tif_Paths[i]) # Read in Tiff Image as 6D Numpy Array\n",
    "    img1 = img.data[0][0]       # Strip extra dimensions (Scene and Time)\n",
    "    #\n",
    "    # Read in RNA1 Spots first, run TrackMate_Quant, append RNA1 data to list\n",
    "    spots = pd.read_csv(RNA1_Paths[i],sep=',',index_col=0)   \n",
    "    RNA1_store = TrackMate_Quant(spots, img1, Z_um, Y_um, X_um, Threshold, Pct_Threshold)    \n",
    "    RNA1_DataList.append(RNA1_store)\n",
    "    # Read in RNA2 Spots next, run TrackMate_Quant, append RNA2 data to list\n",
    "    spots = pd.read_csv(RNA2_Paths[i],sep=',',index_col=0)   \n",
    "    RNA2_store = TrackMate_Quant(spots, img1, Z_um, Y_um, X_um, Threshold, Pct_Threshold)              \n",
    "    RNA2_DataList.append(RNA2_store)"
   ]
  },
  {
   "cell_type": "code",
   "execution_count": 6,
   "metadata": {},
   "outputs": [],
   "source": [
    "RNA1_Spot_Data = pd.DataFrame(RNA1_DataList,columns=['SpotCount', 'SpotCount_Pos', 'PosSpots_Percent', \n",
    "                                  'SpotCount_Vol', 'SpotCount_Neurite_Vol', 'Total_Pixels', \n",
    "                                  'Total_Vol', 'Neurite_Pixels', 'Neurite_Vol', 'Neurite_Vol_Pct'])\n",
    "#\n",
    "RNA2_Spot_Data = pd.DataFrame(RNA2_DataList,columns=['SpotCount', 'SpotCount_Pos', 'PosSpots_Percent', \n",
    "                                  'SpotCount_Vol', 'SpotCount_Neurite_Vol', 'Total_Pixels', \n",
    "                                  'Total_Vol', 'Neurite_Pixels', 'Neurite_Vol', 'Neurite_Vol_Pct'])\n",
    "#\n",
    "RNA1_Spot_Data['RNA'] = 'RNA1'\n",
    "RNA2_Spot_Data['RNA'] = 'RNA2'\n",
    "MergePlot = pd.concat([RNA1_Spot_Data, RNA2_Spot_Data])\n",
    "MergePlot['SpotCountPos_Vol_10um3'] = MergePlot.SpotCountPos_Vol * 1e3\n",
    "MergePlot['SpotCountPos_Neurite_Vol_10um3'] = MergePlot.SpotCountPos_Neurite_Vol * 1e3\n",
    "#\n",
    "pattern = \"(.*?).tif\"\n",
    "Filenames = []\n",
    "for i in list(np.arange(0,len(Tif_Paths))):\n",
    "    s = Tif_Paths[i]\n",
    "    substring = re.search(pattern, s).group(1)\n",
    "    Filenames.append(substring)\n",
    "Filenames2 = Filenames + Filenames\n",
    "MergePlot['Files'] = Filenames2"
   ]
  },
  {
   "cell_type": "code",
   "execution_count": null,
   "metadata": {},
   "outputs": [],
   "source": [
    "# Write Output\n",
    "#MergePlot.to_csv('perField_RNA1_RNA2_MergeOutput.csv',sep=',')"
   ]
  }
 ],
 "metadata": {
  "kernelspec": {
   "display_name": "Python 3",
   "language": "python",
   "name": "python3"
  },
  "language_info": {
   "codemirror_mode": {
    "name": "ipython",
    "version": 3
   },
   "file_extension": ".py",
   "mimetype": "text/x-python",
   "name": "python",
   "nbconvert_exporter": "python",
   "pygments_lexer": "ipython3",
   "version": "3.7.3"
  }
 },
 "nbformat": 4,
 "nbformat_minor": 4
}
